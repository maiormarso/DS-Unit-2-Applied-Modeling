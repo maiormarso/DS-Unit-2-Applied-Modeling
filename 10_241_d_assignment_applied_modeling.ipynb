{
  "nbformat": 4,
  "nbformat_minor": 0,
  "metadata": {
    "kernelspec": {
      "display_name": "Python 3",
      "language": "python",
      "name": "python3"
    },
    "language_info": {
      "codemirror_mode": {
        "name": "ipython",
        "version": 3
      },
      "file_extension": ".py",
      "mimetype": "text/x-python",
      "name": "python",
      "nbconvert_exporter": "python",
      "pygments_lexer": "ipython3",
      "version": "3.7.3"
    },
    "colab": {
      "name": "10_241_d_assignment_applied_modeling.ipynb",
      "provenance": [],
      "collapsed_sections": [],
      "include_colab_link": true
    }
  },
  "cells": [
    {
      "cell_type": "markdown",
      "metadata": {
        "id": "view-in-github",
        "colab_type": "text"
      },
      "source": [
        "<a href=\"https://colab.research.google.com/github/maiormarso/DS-Unit-2-Applied-Modeling/blob/master/10_241_d_assignment_applied_modeling.ipynb\" target=\"_parent\"><img src=\"https://colab.research.google.com/assets/colab-badge.svg\" alt=\"Open In Colab\"/></a>"
      ]
    },
    {
      "cell_type": "markdown",
      "metadata": {
        "id": "n8IYj3b1io3V",
        "colab_type": "text"
      },
      "source": [
        "This dataset includes trip records from all trips completed in \n",
        "Green Taxis in NYC from January to June in 2015. Updated 9/10/2018. \n",
        "Data provided by the Taxi and Limousine Commission(TLC)\n",
        "https://data.cityofnewyork.us/Transportation/2015-Green-Taxi-Trip-Data/gi8d-wdg5"
      ]
    },
    {
      "cell_type": "code",
      "metadata": {
        "id": "fxyVeOuMio3X",
        "colab_type": "code",
        "colab": {}
      },
      "source": [
        "import pandas as pd\n",
        "df3 = pd.read_csv('c://DS//231//df2.csv')"
      ],
      "execution_count": 0,
      "outputs": []
    },
    {
      "cell_type": "markdown",
      "metadata": {
        "id": "Q-0R6bbvio3b",
        "colab_type": "text"
      },
      "source": [
        "In the df2.csv, the following columns were dropped most of which were created seperating the datetime date and making the 24 hour time column, plus the Ehail_fee column which was mostly missing data."
      ]
    },
    {
      "cell_type": "code",
      "metadata": {
        "id": "B1P5ezGYio3b",
        "colab_type": "code",
        "colab": {}
      },
      "source": [
        "# This removes an unwanted 'Unnamed: 0' column created when making the df3.cvs dataset\n",
        "df3=df3.drop(['Unnamed: 0'], axis=1)"
      ],
      "execution_count": 0,
      "outputs": []
    },
    {
      "cell_type": "code",
      "metadata": {
        "scrolled": true,
        "id": "FqHBLia2io3e",
        "colab_type": "code",
        "colab": {},
        "outputId": "29efb745-2f23-4b9d-e0cb-6b93111eae67"
      },
      "source": [
        "df3.head(1)"
      ],
      "execution_count": 0,
      "outputs": [
        {
          "output_type": "execute_result",
          "data": {
            "text/html": [
              "<div>\n",
              "<style scoped>\n",
              "    .dataframe tbody tr th:only-of-type {\n",
              "        vertical-align: middle;\n",
              "    }\n",
              "\n",
              "    .dataframe tbody tr th {\n",
              "        vertical-align: top;\n",
              "    }\n",
              "\n",
              "    .dataframe thead th {\n",
              "        text-align: right;\n",
              "    }\n",
              "</style>\n",
              "<table border=\"1\" class=\"dataframe\">\n",
              "  <thead>\n",
              "    <tr style=\"text-align: right;\">\n",
              "      <th></th>\n",
              "      <th>vendorid</th>\n",
              "      <th>Store_and_fwd_flag</th>\n",
              "      <th>rate_code</th>\n",
              "      <th>Pickup_longitude</th>\n",
              "      <th>Pickup_latitude</th>\n",
              "      <th>Dropoff_longitude</th>\n",
              "      <th>Dropoff_latitude</th>\n",
              "      <th>Passenger_count</th>\n",
              "      <th>Trip_distance</th>\n",
              "      <th>Fare_amount</th>\n",
              "      <th>...</th>\n",
              "      <th>Tip_amount</th>\n",
              "      <th>Tolls_amount</th>\n",
              "      <th>Improvement_surcharge</th>\n",
              "      <th>Total_amount</th>\n",
              "      <th>Payment_type</th>\n",
              "      <th>Trip_type</th>\n",
              "      <th>pickup_date2</th>\n",
              "      <th>dropoff_date2</th>\n",
              "      <th>pickup_24</th>\n",
              "      <th>dropoff_24</th>\n",
              "    </tr>\n",
              "  </thead>\n",
              "  <tbody>\n",
              "    <tr>\n",
              "      <th>0</th>\n",
              "      <td>2</td>\n",
              "      <td>N</td>\n",
              "      <td>1</td>\n",
              "      <td>-73.828262</td>\n",
              "      <td>40.693958</td>\n",
              "      <td>-73.776329</td>\n",
              "      <td>40.645348</td>\n",
              "      <td>1</td>\n",
              "      <td>5.95</td>\n",
              "      <td>19.0</td>\n",
              "      <td>...</td>\n",
              "      <td>4.75</td>\n",
              "      <td>0.0</td>\n",
              "      <td>0.3</td>\n",
              "      <td>24.55</td>\n",
              "      <td>1</td>\n",
              "      <td>1.0</td>\n",
              "      <td>2015-02-10</td>\n",
              "      <td>2015-02-10</td>\n",
              "      <td>08:46:15</td>\n",
              "      <td>08:59:50</td>\n",
              "    </tr>\n",
              "  </tbody>\n",
              "</table>\n",
              "<p>1 rows × 22 columns</p>\n",
              "</div>"
            ],
            "text/plain": [
              "   vendorid Store_and_fwd_flag  rate_code  Pickup_longitude  Pickup_latitude  \\\n",
              "0         2                  N          1        -73.828262        40.693958   \n",
              "\n",
              "   Dropoff_longitude  Dropoff_latitude  Passenger_count  Trip_distance  \\\n",
              "0         -73.776329         40.645348                1           5.95   \n",
              "\n",
              "   Fare_amount  ...  Tip_amount  Tolls_amount  Improvement_surcharge  \\\n",
              "0         19.0  ...        4.75           0.0                    0.3   \n",
              "\n",
              "   Total_amount  Payment_type  Trip_type  pickup_date2  dropoff_date2  \\\n",
              "0         24.55             1        1.0    2015-02-10     2015-02-10   \n",
              "\n",
              "  pickup_24 dropoff_24  \n",
              "0  08:46:15   08:59:50  \n",
              "\n",
              "[1 rows x 22 columns]"
            ]
          },
          "metadata": {
            "tags": []
          },
          "execution_count": 3
        }
      ]
    },
    {
      "cell_type": "code",
      "metadata": {
        "scrolled": true,
        "id": "UnJzzl4vio3h",
        "colab_type": "code",
        "colab": {},
        "outputId": "fbf24b51-f8af-45a7-b4b6-e0e7968db4a2"
      },
      "source": [
        "df3.shape"
      ],
      "execution_count": 0,
      "outputs": [
        {
          "output_type": "execute_result",
          "data": {
            "text/plain": [
              "(19233765, 22)"
            ]
          },
          "metadata": {
            "tags": []
          },
          "execution_count": 4
        }
      ]
    },
    {
      "cell_type": "markdown",
      "metadata": {
        "id": "_RE2iy0bio3k",
        "colab_type": "text"
      },
      "source": [
        "Chosen your target. Which column in your tabular dataset will you predict? The derived classification target will be 'Tip_amount'"
      ]
    },
    {
      "cell_type": "code",
      "metadata": {
        "id": "xEaKscZMio3l",
        "colab_type": "code",
        "colab": {}
      },
      "source": [
        "df3['Tip_toFare'] = df3['Tip_amount'] / df3['Fare_amount']"
      ],
      "execution_count": 0,
      "outputs": []
    },
    {
      "cell_type": "code",
      "metadata": {
        "id": "zqIEpYwDio3n",
        "colab_type": "code",
        "colab": {},
        "outputId": "6ff885af-452d-4788-c490-a235149ad3c2"
      },
      "source": [
        "# Derive binary classification target:\n",
        "# We define a 'Great' Taxi trip as having an\n",
        "# overall rating of 4 or higher, on a 5 point scale.\n",
        "# Drop unrated Tip_amount.\n",
        "#df3 = df.dropna(subset=['overall'])\n",
        "df3['Great'] = df3['Tip_toFare'] >= .30\n",
        "df3['Great'].describe()"
      ],
      "execution_count": 0,
      "outputs": [
        {
          "output_type": "execute_result",
          "data": {
            "text/plain": [
              "count     19233765\n",
              "unique           2\n",
              "top          False\n",
              "freq      18281305\n",
              "Name: Great, dtype: object"
            ]
          },
          "metadata": {
            "tags": []
          },
          "execution_count": 6
        }
      ]
    },
    {
      "cell_type": "code",
      "metadata": {
        "id": "GEFEx4QMio3p",
        "colab_type": "code",
        "colab": {}
      },
      "source": [
        "target = 'Great'\n"
      ],
      "execution_count": 0,
      "outputs": []
    },
    {
      "cell_type": "code",
      "metadata": {
        "id": "-Y6MjiJZio3s",
        "colab_type": "code",
        "colab": {},
        "outputId": "e2442e78-51b3-4af4-d493-dd1c0d964192"
      },
      "source": [
        "df3['Great'].isnull().sum()"
      ],
      "execution_count": 0,
      "outputs": [
        {
          "output_type": "execute_result",
          "data": {
            "text/plain": [
              "0"
            ]
          },
          "metadata": {
            "tags": []
          },
          "execution_count": 8
        }
      ]
    },
    {
      "cell_type": "code",
      "metadata": {
        "id": "o-VZOnCJio3u",
        "colab_type": "code",
        "colab": {}
      },
      "source": [
        "# df3 = df3.apply(pd.to_numeric, errors='coerce')\n",
        "# df3 = df3.dropna()"
      ],
      "execution_count": 0,
      "outputs": []
    },
    {
      "cell_type": "markdown",
      "metadata": {
        "id": "BcllfX_lio3w",
        "colab_type": "text"
      },
      "source": [
        "The df3.describe() indicates that Fare_amount, Extra, MTA_tax, Tip_amount, Tolls_amount, Improvement_surcharge and Total_amount have negative values; and here, are converted to thier absolute value.  "
      ]
    },
    {
      "cell_type": "code",
      "metadata": {
        "scrolled": true,
        "id": "ph-si0Mzio3x",
        "colab_type": "code",
        "colab": {},
        "outputId": "d7da4207-e91d-4e02-b723-bc6107bd1fb5"
      },
      "source": [
        "df3.describe()"
      ],
      "execution_count": 0,
      "outputs": [
        {
          "output_type": "execute_result",
          "data": {
            "text/html": [
              "<div>\n",
              "<style scoped>\n",
              "    .dataframe tbody tr th:only-of-type {\n",
              "        vertical-align: middle;\n",
              "    }\n",
              "\n",
              "    .dataframe tbody tr th {\n",
              "        vertical-align: top;\n",
              "    }\n",
              "\n",
              "    .dataframe thead th {\n",
              "        text-align: right;\n",
              "    }\n",
              "</style>\n",
              "<table border=\"1\" class=\"dataframe\">\n",
              "  <thead>\n",
              "    <tr style=\"text-align: right;\">\n",
              "      <th></th>\n",
              "      <th>vendorid</th>\n",
              "      <th>rate_code</th>\n",
              "      <th>Pickup_longitude</th>\n",
              "      <th>Pickup_latitude</th>\n",
              "      <th>Dropoff_longitude</th>\n",
              "      <th>Dropoff_latitude</th>\n",
              "      <th>Passenger_count</th>\n",
              "      <th>Trip_distance</th>\n",
              "      <th>Fare_amount</th>\n",
              "      <th>Extra</th>\n",
              "      <th>MTA_tax</th>\n",
              "      <th>Tip_amount</th>\n",
              "      <th>Tolls_amount</th>\n",
              "      <th>Improvement_surcharge</th>\n",
              "      <th>Total_amount</th>\n",
              "      <th>Payment_type</th>\n",
              "      <th>Trip_type</th>\n",
              "      <th>Tip_toFare</th>\n",
              "    </tr>\n",
              "  </thead>\n",
              "  <tbody>\n",
              "    <tr>\n",
              "      <th>count</th>\n",
              "      <td>1.923376e+07</td>\n",
              "      <td>1.923376e+07</td>\n",
              "      <td>1.923376e+07</td>\n",
              "      <td>1.923376e+07</td>\n",
              "      <td>1.923376e+07</td>\n",
              "      <td>1.923376e+07</td>\n",
              "      <td>1.923376e+07</td>\n",
              "      <td>1.923376e+07</td>\n",
              "      <td>1.923376e+07</td>\n",
              "      <td>1.923376e+07</td>\n",
              "      <td>1.923376e+07</td>\n",
              "      <td>1.923376e+07</td>\n",
              "      <td>1.923376e+07</td>\n",
              "      <td>1.923376e+07</td>\n",
              "      <td>1.923376e+07</td>\n",
              "      <td>1.923376e+07</td>\n",
              "      <td>1.923369e+07</td>\n",
              "      <td>1.917827e+07</td>\n",
              "    </tr>\n",
              "    <tr>\n",
              "      <th>mean</th>\n",
              "      <td>1.781024e+00</td>\n",
              "      <td>1.099558e+00</td>\n",
              "      <td>-7.382873e+01</td>\n",
              "      <td>4.069085e+01</td>\n",
              "      <td>-7.383247e+01</td>\n",
              "      <td>4.069154e+01</td>\n",
              "      <td>1.374881e+00</td>\n",
              "      <td>2.880014e+00</td>\n",
              "      <td>1.233097e+01</td>\n",
              "      <td>3.523505e-01</td>\n",
              "      <td>4.863494e-01</td>\n",
              "      <td>1.214484e+00</td>\n",
              "      <td>1.132660e-01</td>\n",
              "      <td>2.907562e-01</td>\n",
              "      <td>1.484065e+01</td>\n",
              "      <td>1.548207e+00</td>\n",
              "      <td>1.023004e+00</td>\n",
              "      <td>inf</td>\n",
              "    </tr>\n",
              "    <tr>\n",
              "      <th>std</th>\n",
              "      <td>4.135521e-01</td>\n",
              "      <td>6.464662e-01</td>\n",
              "      <td>2.804967e+00</td>\n",
              "      <td>1.546499e+00</td>\n",
              "      <td>2.740435e+00</td>\n",
              "      <td>1.510833e+00</td>\n",
              "      <td>1.049344e+00</td>\n",
              "      <td>3.017242e+00</td>\n",
              "      <td>1.071811e+01</td>\n",
              "      <td>3.659714e-01</td>\n",
              "      <td>8.921556e-02</td>\n",
              "      <td>3.342661e+00</td>\n",
              "      <td>1.148614e+00</td>\n",
              "      <td>5.369730e-02</td>\n",
              "      <td>2.260808e+02</td>\n",
              "      <td>5.235404e-01</td>\n",
              "      <td>1.499159e-01</td>\n",
              "      <td>NaN</td>\n",
              "    </tr>\n",
              "    <tr>\n",
              "      <th>min</th>\n",
              "      <td>1.000000e+00</td>\n",
              "      <td>1.000000e+00</td>\n",
              "      <td>-1.223996e+02</td>\n",
              "      <td>0.000000e+00</td>\n",
              "      <td>-1.223996e+02</td>\n",
              "      <td>0.000000e+00</td>\n",
              "      <td>0.000000e+00</td>\n",
              "      <td>0.000000e+00</td>\n",
              "      <td>-4.990000e+02</td>\n",
              "      <td>-1.000000e+00</td>\n",
              "      <td>-4.950000e+01</td>\n",
              "      <td>-1.000000e+02</td>\n",
              "      <td>-1.816000e+01</td>\n",
              "      <td>-3.000000e-01</td>\n",
              "      <td>-4.990000e+02</td>\n",
              "      <td>1.000000e+00</td>\n",
              "      <td>1.000000e+00</td>\n",
              "      <td>-9.009009e-03</td>\n",
              "    </tr>\n",
              "    <tr>\n",
              "      <th>25%</th>\n",
              "      <td>2.000000e+00</td>\n",
              "      <td>1.000000e+00</td>\n",
              "      <td>-7.395933e+01</td>\n",
              "      <td>4.069925e+01</td>\n",
              "      <td>-7.396709e+01</td>\n",
              "      <td>4.070002e+01</td>\n",
              "      <td>1.000000e+00</td>\n",
              "      <td>1.060000e+00</td>\n",
              "      <td>6.500000e+00</td>\n",
              "      <td>0.000000e+00</td>\n",
              "      <td>5.000000e-01</td>\n",
              "      <td>0.000000e+00</td>\n",
              "      <td>0.000000e+00</td>\n",
              "      <td>3.000000e-01</td>\n",
              "      <td>7.850000e+00</td>\n",
              "      <td>1.000000e+00</td>\n",
              "      <td>1.000000e+00</td>\n",
              "      <td>0.000000e+00</td>\n",
              "    </tr>\n",
              "    <tr>\n",
              "      <th>50%</th>\n",
              "      <td>2.000000e+00</td>\n",
              "      <td>1.000000e+00</td>\n",
              "      <td>-7.394505e+01</td>\n",
              "      <td>4.074687e+01</td>\n",
              "      <td>-7.394437e+01</td>\n",
              "      <td>4.074786e+01</td>\n",
              "      <td>1.000000e+00</td>\n",
              "      <td>1.900000e+00</td>\n",
              "      <td>9.500000e+00</td>\n",
              "      <td>5.000000e-01</td>\n",
              "      <td>5.000000e-01</td>\n",
              "      <td>0.000000e+00</td>\n",
              "      <td>0.000000e+00</td>\n",
              "      <td>3.000000e-01</td>\n",
              "      <td>1.130000e+01</td>\n",
              "      <td>2.000000e+00</td>\n",
              "      <td>1.000000e+00</td>\n",
              "      <td>0.000000e+00</td>\n",
              "    </tr>\n",
              "    <tr>\n",
              "      <th>75%</th>\n",
              "      <td>2.000000e+00</td>\n",
              "      <td>1.000000e+00</td>\n",
              "      <td>-7.391687e+01</td>\n",
              "      <td>4.080359e+01</td>\n",
              "      <td>-7.390933e+01</td>\n",
              "      <td>4.079250e+01</td>\n",
              "      <td>1.000000e+00</td>\n",
              "      <td>3.640000e+00</td>\n",
              "      <td>1.500000e+01</td>\n",
              "      <td>5.000000e-01</td>\n",
              "      <td>5.000000e-01</td>\n",
              "      <td>2.000000e+00</td>\n",
              "      <td>0.000000e+00</td>\n",
              "      <td>3.000000e-01</td>\n",
              "      <td>1.780000e+01</td>\n",
              "      <td>2.000000e+00</td>\n",
              "      <td>1.000000e+00</td>\n",
              "      <td>2.119048e-01</td>\n",
              "    </tr>\n",
              "    <tr>\n",
              "      <th>max</th>\n",
              "      <td>2.000000e+00</td>\n",
              "      <td>9.900000e+01</td>\n",
              "      <td>0.000000e+00</td>\n",
              "      <td>4.341588e+01</td>\n",
              "      <td>0.000000e+00</td>\n",
              "      <td>4.509433e+01</td>\n",
              "      <td>9.000000e+00</td>\n",
              "      <td>8.304000e+02</td>\n",
              "      <td>8.010500e+03</td>\n",
              "      <td>6.000000e+01</td>\n",
              "      <td>5.354000e+01</td>\n",
              "      <td>2.017730e+03</td>\n",
              "      <td>1.226100e+03</td>\n",
              "      <td>3.000000e-01</td>\n",
              "      <td>9.899704e+05</td>\n",
              "      <td>5.000000e+00</td>\n",
              "      <td>2.000000e+00</td>\n",
              "      <td>inf</td>\n",
              "    </tr>\n",
              "  </tbody>\n",
              "</table>\n",
              "</div>"
            ],
            "text/plain": [
              "           vendorid     rate_code  Pickup_longitude  Pickup_latitude  \\\n",
              "count  1.923376e+07  1.923376e+07      1.923376e+07     1.923376e+07   \n",
              "mean   1.781024e+00  1.099558e+00     -7.382873e+01     4.069085e+01   \n",
              "std    4.135521e-01  6.464662e-01      2.804967e+00     1.546499e+00   \n",
              "min    1.000000e+00  1.000000e+00     -1.223996e+02     0.000000e+00   \n",
              "25%    2.000000e+00  1.000000e+00     -7.395933e+01     4.069925e+01   \n",
              "50%    2.000000e+00  1.000000e+00     -7.394505e+01     4.074687e+01   \n",
              "75%    2.000000e+00  1.000000e+00     -7.391687e+01     4.080359e+01   \n",
              "max    2.000000e+00  9.900000e+01      0.000000e+00     4.341588e+01   \n",
              "\n",
              "       Dropoff_longitude  Dropoff_latitude  Passenger_count  Trip_distance  \\\n",
              "count       1.923376e+07      1.923376e+07     1.923376e+07   1.923376e+07   \n",
              "mean       -7.383247e+01      4.069154e+01     1.374881e+00   2.880014e+00   \n",
              "std         2.740435e+00      1.510833e+00     1.049344e+00   3.017242e+00   \n",
              "min        -1.223996e+02      0.000000e+00     0.000000e+00   0.000000e+00   \n",
              "25%        -7.396709e+01      4.070002e+01     1.000000e+00   1.060000e+00   \n",
              "50%        -7.394437e+01      4.074786e+01     1.000000e+00   1.900000e+00   \n",
              "75%        -7.390933e+01      4.079250e+01     1.000000e+00   3.640000e+00   \n",
              "max         0.000000e+00      4.509433e+01     9.000000e+00   8.304000e+02   \n",
              "\n",
              "        Fare_amount         Extra       MTA_tax    Tip_amount  Tolls_amount  \\\n",
              "count  1.923376e+07  1.923376e+07  1.923376e+07  1.923376e+07  1.923376e+07   \n",
              "mean   1.233097e+01  3.523505e-01  4.863494e-01  1.214484e+00  1.132660e-01   \n",
              "std    1.071811e+01  3.659714e-01  8.921556e-02  3.342661e+00  1.148614e+00   \n",
              "min   -4.990000e+02 -1.000000e+00 -4.950000e+01 -1.000000e+02 -1.816000e+01   \n",
              "25%    6.500000e+00  0.000000e+00  5.000000e-01  0.000000e+00  0.000000e+00   \n",
              "50%    9.500000e+00  5.000000e-01  5.000000e-01  0.000000e+00  0.000000e+00   \n",
              "75%    1.500000e+01  5.000000e-01  5.000000e-01  2.000000e+00  0.000000e+00   \n",
              "max    8.010500e+03  6.000000e+01  5.354000e+01  2.017730e+03  1.226100e+03   \n",
              "\n",
              "       Improvement_surcharge  Total_amount  Payment_type     Trip_type  \\\n",
              "count           1.923376e+07  1.923376e+07  1.923376e+07  1.923369e+07   \n",
              "mean            2.907562e-01  1.484065e+01  1.548207e+00  1.023004e+00   \n",
              "std             5.369730e-02  2.260808e+02  5.235404e-01  1.499159e-01   \n",
              "min            -3.000000e-01 -4.990000e+02  1.000000e+00  1.000000e+00   \n",
              "25%             3.000000e-01  7.850000e+00  1.000000e+00  1.000000e+00   \n",
              "50%             3.000000e-01  1.130000e+01  2.000000e+00  1.000000e+00   \n",
              "75%             3.000000e-01  1.780000e+01  2.000000e+00  1.000000e+00   \n",
              "max             3.000000e-01  9.899704e+05  5.000000e+00  2.000000e+00   \n",
              "\n",
              "         Tip_toFare  \n",
              "count  1.917827e+07  \n",
              "mean            inf  \n",
              "std             NaN  \n",
              "min   -9.009009e-03  \n",
              "25%    0.000000e+00  \n",
              "50%    0.000000e+00  \n",
              "75%    2.119048e-01  \n",
              "max             inf  "
            ]
          },
          "metadata": {
            "tags": []
          },
          "execution_count": 10
        }
      ]
    },
    {
      "cell_type": "code",
      "metadata": {
        "id": "Gr9XAfRNio3z",
        "colab_type": "code",
        "colab": {}
      },
      "source": [
        "df3.Fare_amount = df3.Fare_amount.abs()"
      ],
      "execution_count": 0,
      "outputs": []
    },
    {
      "cell_type": "code",
      "metadata": {
        "id": "YrGMw8TAio31",
        "colab_type": "code",
        "colab": {}
      },
      "source": [
        "df3.Extra = df3.Extra.abs()"
      ],
      "execution_count": 0,
      "outputs": []
    },
    {
      "cell_type": "code",
      "metadata": {
        "id": "5XcZNdlyio33",
        "colab_type": "code",
        "colab": {}
      },
      "source": [
        "df3.MTA_tax = df3.MTA_tax.abs()"
      ],
      "execution_count": 0,
      "outputs": []
    },
    {
      "cell_type": "code",
      "metadata": {
        "id": "wunAy5X-io35",
        "colab_type": "code",
        "colab": {}
      },
      "source": [
        "df3.Tip_amount = df3.Tip_amount.abs()"
      ],
      "execution_count": 0,
      "outputs": []
    },
    {
      "cell_type": "code",
      "metadata": {
        "id": "BmL7Badlio3-",
        "colab_type": "code",
        "colab": {}
      },
      "source": [
        "df3.Tolls_amount = df3.Tolls_amount.abs()"
      ],
      "execution_count": 0,
      "outputs": []
    },
    {
      "cell_type": "code",
      "metadata": {
        "id": "_Kt3qssSio4A",
        "colab_type": "code",
        "colab": {}
      },
      "source": [
        "df3.Improvement_surcharge = df3.Improvement_surcharge.abs()"
      ],
      "execution_count": 0,
      "outputs": []
    },
    {
      "cell_type": "code",
      "metadata": {
        "id": "_25SZ8jLio4C",
        "colab_type": "code",
        "colab": {}
      },
      "source": [
        "df3.Total_amount = df3.Total_amount.abs()"
      ],
      "execution_count": 0,
      "outputs": []
    },
    {
      "cell_type": "markdown",
      "metadata": {
        "id": "X8zex44lio4E",
        "colab_type": "text"
      },
      "source": [
        "print('Tip_amount',100*df3[df3.Tip_amount<0].shape[0]/float(df3.shape[0]),'%')"
      ]
    },
    {
      "cell_type": "code",
      "metadata": {
        "id": "RlG9tK5vio4F",
        "colab_type": "code",
        "colab": {},
        "outputId": "88a76ca5-9785-4735-cd23-be994b30df6e"
      },
      "source": [
        "df3.describe()"
      ],
      "execution_count": 0,
      "outputs": [
        {
          "output_type": "execute_result",
          "data": {
            "text/html": [
              "<div>\n",
              "<style scoped>\n",
              "    .dataframe tbody tr th:only-of-type {\n",
              "        vertical-align: middle;\n",
              "    }\n",
              "\n",
              "    .dataframe tbody tr th {\n",
              "        vertical-align: top;\n",
              "    }\n",
              "\n",
              "    .dataframe thead th {\n",
              "        text-align: right;\n",
              "    }\n",
              "</style>\n",
              "<table border=\"1\" class=\"dataframe\">\n",
              "  <thead>\n",
              "    <tr style=\"text-align: right;\">\n",
              "      <th></th>\n",
              "      <th>vendorid</th>\n",
              "      <th>rate_code</th>\n",
              "      <th>Pickup_longitude</th>\n",
              "      <th>Pickup_latitude</th>\n",
              "      <th>Dropoff_longitude</th>\n",
              "      <th>Dropoff_latitude</th>\n",
              "      <th>Passenger_count</th>\n",
              "      <th>Trip_distance</th>\n",
              "      <th>Fare_amount</th>\n",
              "      <th>Extra</th>\n",
              "      <th>MTA_tax</th>\n",
              "      <th>Tip_amount</th>\n",
              "      <th>Tolls_amount</th>\n",
              "      <th>Improvement_surcharge</th>\n",
              "      <th>Total_amount</th>\n",
              "      <th>Payment_type</th>\n",
              "      <th>Trip_type</th>\n",
              "      <th>Tip_toFare</th>\n",
              "    </tr>\n",
              "  </thead>\n",
              "  <tbody>\n",
              "    <tr>\n",
              "      <th>count</th>\n",
              "      <td>1.923376e+07</td>\n",
              "      <td>1.923376e+07</td>\n",
              "      <td>1.923376e+07</td>\n",
              "      <td>1.923376e+07</td>\n",
              "      <td>1.923376e+07</td>\n",
              "      <td>1.923376e+07</td>\n",
              "      <td>1.923376e+07</td>\n",
              "      <td>1.923376e+07</td>\n",
              "      <td>1.923376e+07</td>\n",
              "      <td>1.923376e+07</td>\n",
              "      <td>1.923376e+07</td>\n",
              "      <td>1.923376e+07</td>\n",
              "      <td>1.923376e+07</td>\n",
              "      <td>1.923376e+07</td>\n",
              "      <td>1.923376e+07</td>\n",
              "      <td>1.923376e+07</td>\n",
              "      <td>1.923369e+07</td>\n",
              "      <td>1.917827e+07</td>\n",
              "    </tr>\n",
              "    <tr>\n",
              "      <th>mean</th>\n",
              "      <td>1.781024e+00</td>\n",
              "      <td>1.099558e+00</td>\n",
              "      <td>-7.382873e+01</td>\n",
              "      <td>4.069085e+01</td>\n",
              "      <td>-7.383247e+01</td>\n",
              "      <td>4.069154e+01</td>\n",
              "      <td>1.374881e+00</td>\n",
              "      <td>2.880014e+00</td>\n",
              "      <td>1.236391e+01</td>\n",
              "      <td>3.534510e-01</td>\n",
              "      <td>4.878184e-01</td>\n",
              "      <td>1.214640e+00</td>\n",
              "      <td>1.133072e-01</td>\n",
              "      <td>2.914086e-01</td>\n",
              "      <td>1.487723e+01</td>\n",
              "      <td>1.548207e+00</td>\n",
              "      <td>1.023004e+00</td>\n",
              "      <td>inf</td>\n",
              "    </tr>\n",
              "    <tr>\n",
              "      <th>std</th>\n",
              "      <td>4.135521e-01</td>\n",
              "      <td>6.464662e-01</td>\n",
              "      <td>2.804967e+00</td>\n",
              "      <td>1.546499e+00</td>\n",
              "      <td>2.740435e+00</td>\n",
              "      <td>1.510833e+00</td>\n",
              "      <td>1.049344e+00</td>\n",
              "      <td>3.017242e+00</td>\n",
              "      <td>1.068010e+01</td>\n",
              "      <td>3.649087e-01</td>\n",
              "      <td>8.079842e-02</td>\n",
              "      <td>3.342604e+00</td>\n",
              "      <td>1.148610e+00</td>\n",
              "      <td>5.003604e-02</td>\n",
              "      <td>2.260784e+02</td>\n",
              "      <td>5.235404e-01</td>\n",
              "      <td>1.499159e-01</td>\n",
              "      <td>NaN</td>\n",
              "    </tr>\n",
              "    <tr>\n",
              "      <th>min</th>\n",
              "      <td>1.000000e+00</td>\n",
              "      <td>1.000000e+00</td>\n",
              "      <td>-1.223996e+02</td>\n",
              "      <td>0.000000e+00</td>\n",
              "      <td>-1.223996e+02</td>\n",
              "      <td>0.000000e+00</td>\n",
              "      <td>0.000000e+00</td>\n",
              "      <td>0.000000e+00</td>\n",
              "      <td>0.000000e+00</td>\n",
              "      <td>0.000000e+00</td>\n",
              "      <td>0.000000e+00</td>\n",
              "      <td>0.000000e+00</td>\n",
              "      <td>0.000000e+00</td>\n",
              "      <td>0.000000e+00</td>\n",
              "      <td>0.000000e+00</td>\n",
              "      <td>1.000000e+00</td>\n",
              "      <td>1.000000e+00</td>\n",
              "      <td>-9.009009e-03</td>\n",
              "    </tr>\n",
              "    <tr>\n",
              "      <th>25%</th>\n",
              "      <td>2.000000e+00</td>\n",
              "      <td>1.000000e+00</td>\n",
              "      <td>-7.395933e+01</td>\n",
              "      <td>4.069925e+01</td>\n",
              "      <td>-7.396709e+01</td>\n",
              "      <td>4.070002e+01</td>\n",
              "      <td>1.000000e+00</td>\n",
              "      <td>1.060000e+00</td>\n",
              "      <td>6.500000e+00</td>\n",
              "      <td>0.000000e+00</td>\n",
              "      <td>5.000000e-01</td>\n",
              "      <td>0.000000e+00</td>\n",
              "      <td>0.000000e+00</td>\n",
              "      <td>3.000000e-01</td>\n",
              "      <td>7.880000e+00</td>\n",
              "      <td>1.000000e+00</td>\n",
              "      <td>1.000000e+00</td>\n",
              "      <td>0.000000e+00</td>\n",
              "    </tr>\n",
              "    <tr>\n",
              "      <th>50%</th>\n",
              "      <td>2.000000e+00</td>\n",
              "      <td>1.000000e+00</td>\n",
              "      <td>-7.394505e+01</td>\n",
              "      <td>4.074687e+01</td>\n",
              "      <td>-7.394437e+01</td>\n",
              "      <td>4.074786e+01</td>\n",
              "      <td>1.000000e+00</td>\n",
              "      <td>1.900000e+00</td>\n",
              "      <td>9.500000e+00</td>\n",
              "      <td>5.000000e-01</td>\n",
              "      <td>5.000000e-01</td>\n",
              "      <td>0.000000e+00</td>\n",
              "      <td>0.000000e+00</td>\n",
              "      <td>3.000000e-01</td>\n",
              "      <td>1.130000e+01</td>\n",
              "      <td>2.000000e+00</td>\n",
              "      <td>1.000000e+00</td>\n",
              "      <td>0.000000e+00</td>\n",
              "    </tr>\n",
              "    <tr>\n",
              "      <th>75%</th>\n",
              "      <td>2.000000e+00</td>\n",
              "      <td>1.000000e+00</td>\n",
              "      <td>-7.391687e+01</td>\n",
              "      <td>4.080359e+01</td>\n",
              "      <td>-7.390933e+01</td>\n",
              "      <td>4.079250e+01</td>\n",
              "      <td>1.000000e+00</td>\n",
              "      <td>3.640000e+00</td>\n",
              "      <td>1.500000e+01</td>\n",
              "      <td>5.000000e-01</td>\n",
              "      <td>5.000000e-01</td>\n",
              "      <td>2.000000e+00</td>\n",
              "      <td>0.000000e+00</td>\n",
              "      <td>3.000000e-01</td>\n",
              "      <td>1.780000e+01</td>\n",
              "      <td>2.000000e+00</td>\n",
              "      <td>1.000000e+00</td>\n",
              "      <td>2.119048e-01</td>\n",
              "    </tr>\n",
              "    <tr>\n",
              "      <th>max</th>\n",
              "      <td>2.000000e+00</td>\n",
              "      <td>9.900000e+01</td>\n",
              "      <td>0.000000e+00</td>\n",
              "      <td>4.341588e+01</td>\n",
              "      <td>0.000000e+00</td>\n",
              "      <td>4.509433e+01</td>\n",
              "      <td>9.000000e+00</td>\n",
              "      <td>8.304000e+02</td>\n",
              "      <td>8.010500e+03</td>\n",
              "      <td>6.000000e+01</td>\n",
              "      <td>5.354000e+01</td>\n",
              "      <td>2.017730e+03</td>\n",
              "      <td>1.226100e+03</td>\n",
              "      <td>3.000000e-01</td>\n",
              "      <td>9.899704e+05</td>\n",
              "      <td>5.000000e+00</td>\n",
              "      <td>2.000000e+00</td>\n",
              "      <td>inf</td>\n",
              "    </tr>\n",
              "  </tbody>\n",
              "</table>\n",
              "</div>"
            ],
            "text/plain": [
              "           vendorid     rate_code  Pickup_longitude  Pickup_latitude  \\\n",
              "count  1.923376e+07  1.923376e+07      1.923376e+07     1.923376e+07   \n",
              "mean   1.781024e+00  1.099558e+00     -7.382873e+01     4.069085e+01   \n",
              "std    4.135521e-01  6.464662e-01      2.804967e+00     1.546499e+00   \n",
              "min    1.000000e+00  1.000000e+00     -1.223996e+02     0.000000e+00   \n",
              "25%    2.000000e+00  1.000000e+00     -7.395933e+01     4.069925e+01   \n",
              "50%    2.000000e+00  1.000000e+00     -7.394505e+01     4.074687e+01   \n",
              "75%    2.000000e+00  1.000000e+00     -7.391687e+01     4.080359e+01   \n",
              "max    2.000000e+00  9.900000e+01      0.000000e+00     4.341588e+01   \n",
              "\n",
              "       Dropoff_longitude  Dropoff_latitude  Passenger_count  Trip_distance  \\\n",
              "count       1.923376e+07      1.923376e+07     1.923376e+07   1.923376e+07   \n",
              "mean       -7.383247e+01      4.069154e+01     1.374881e+00   2.880014e+00   \n",
              "std         2.740435e+00      1.510833e+00     1.049344e+00   3.017242e+00   \n",
              "min        -1.223996e+02      0.000000e+00     0.000000e+00   0.000000e+00   \n",
              "25%        -7.396709e+01      4.070002e+01     1.000000e+00   1.060000e+00   \n",
              "50%        -7.394437e+01      4.074786e+01     1.000000e+00   1.900000e+00   \n",
              "75%        -7.390933e+01      4.079250e+01     1.000000e+00   3.640000e+00   \n",
              "max         0.000000e+00      4.509433e+01     9.000000e+00   8.304000e+02   \n",
              "\n",
              "        Fare_amount         Extra       MTA_tax    Tip_amount  Tolls_amount  \\\n",
              "count  1.923376e+07  1.923376e+07  1.923376e+07  1.923376e+07  1.923376e+07   \n",
              "mean   1.236391e+01  3.534510e-01  4.878184e-01  1.214640e+00  1.133072e-01   \n",
              "std    1.068010e+01  3.649087e-01  8.079842e-02  3.342604e+00  1.148610e+00   \n",
              "min    0.000000e+00  0.000000e+00  0.000000e+00  0.000000e+00  0.000000e+00   \n",
              "25%    6.500000e+00  0.000000e+00  5.000000e-01  0.000000e+00  0.000000e+00   \n",
              "50%    9.500000e+00  5.000000e-01  5.000000e-01  0.000000e+00  0.000000e+00   \n",
              "75%    1.500000e+01  5.000000e-01  5.000000e-01  2.000000e+00  0.000000e+00   \n",
              "max    8.010500e+03  6.000000e+01  5.354000e+01  2.017730e+03  1.226100e+03   \n",
              "\n",
              "       Improvement_surcharge  Total_amount  Payment_type     Trip_type  \\\n",
              "count           1.923376e+07  1.923376e+07  1.923376e+07  1.923369e+07   \n",
              "mean            2.914086e-01  1.487723e+01  1.548207e+00  1.023004e+00   \n",
              "std             5.003604e-02  2.260784e+02  5.235404e-01  1.499159e-01   \n",
              "min             0.000000e+00  0.000000e+00  1.000000e+00  1.000000e+00   \n",
              "25%             3.000000e-01  7.880000e+00  1.000000e+00  1.000000e+00   \n",
              "50%             3.000000e-01  1.130000e+01  2.000000e+00  1.000000e+00   \n",
              "75%             3.000000e-01  1.780000e+01  2.000000e+00  1.000000e+00   \n",
              "max             3.000000e-01  9.899704e+05  5.000000e+00  2.000000e+00   \n",
              "\n",
              "         Tip_toFare  \n",
              "count  1.917827e+07  \n",
              "mean            inf  \n",
              "std             NaN  \n",
              "min   -9.009009e-03  \n",
              "25%    0.000000e+00  \n",
              "50%    0.000000e+00  \n",
              "75%    2.119048e-01  \n",
              "max             inf  "
            ]
          },
          "metadata": {
            "tags": []
          },
          "execution_count": 18
        }
      ]
    },
    {
      "cell_type": "markdown",
      "metadata": {
        "id": "WWkavzuMio4H",
        "colab_type": "text"
      },
      "source": [
        "There are 72 NaNs in the 'Trip_type column, which are filled in with the same value from the previous row."
      ]
    },
    {
      "cell_type": "code",
      "metadata": {
        "id": "89AJ-6Mvio4H",
        "colab_type": "code",
        "colab": {},
        "outputId": "73fa980f-c7bf-4351-ad13-c21600c857a1"
      },
      "source": [
        "df3['Trip_type'].isnull().sum()"
      ],
      "execution_count": 0,
      "outputs": [
        {
          "output_type": "execute_result",
          "data": {
            "text/plain": [
              "72"
            ]
          },
          "metadata": {
            "tags": []
          },
          "execution_count": 19
        }
      ]
    },
    {
      "cell_type": "code",
      "metadata": {
        "id": "VQD5yz97io4M",
        "colab_type": "code",
        "colab": {}
      },
      "source": [
        "df3['Trip_type'].fillna(method='ffill', inplace=True)"
      ],
      "execution_count": 0,
      "outputs": []
    },
    {
      "cell_type": "code",
      "metadata": {
        "id": "YkpFjUacio4O",
        "colab_type": "code",
        "colab": {},
        "outputId": "6b856fb2-6925-43d4-98df-bf7285c81a5f"
      },
      "source": [
        "df3['Trip_type'].unique()"
      ],
      "execution_count": 0,
      "outputs": [
        {
          "output_type": "execute_result",
          "data": {
            "text/plain": [
              "array([1., 2.])"
            ]
          },
          "metadata": {
            "tags": []
          },
          "execution_count": 21
        }
      ]
    },
    {
      "cell_type": "markdown",
      "metadata": {
        "id": "2J0UslYSio4Q",
        "colab_type": "text"
      },
      "source": [
        "Rate_code"
      ]
    },
    {
      "cell_type": "code",
      "metadata": {
        "id": "9bC-XO8Nio4R",
        "colab_type": "code",
        "colab": {},
        "outputId": "f948449f-3565-4b82-9886-dffc0844925c"
      },
      "source": [
        "df3['rate_code'].describe()"
      ],
      "execution_count": 0,
      "outputs": [
        {
          "output_type": "execute_result",
          "data": {
            "text/plain": [
              "count    1.923376e+07\n",
              "mean     1.099558e+00\n",
              "std      6.464662e-01\n",
              "min      1.000000e+00\n",
              "25%      1.000000e+00\n",
              "50%      1.000000e+00\n",
              "75%      1.000000e+00\n",
              "max      9.900000e+01\n",
              "Name: rate_code, dtype: float64"
            ]
          },
          "metadata": {
            "tags": []
          },
          "execution_count": 22
        }
      ]
    },
    {
      "cell_type": "markdown",
      "metadata": {
        "id": "8FdWimgRio4S",
        "colab_type": "text"
      },
      "source": [
        "Choose which obsevation you will use to train validat and test"
      ]
    },
    {
      "cell_type": "code",
      "metadata": {
        "id": "I_TnG13oio4T",
        "colab_type": "code",
        "colab": {}
      },
      "source": [
        "#Remove rows with '0' zero Tip_amount.\n",
        "\n",
        "Tip_index = df3[df3['Tip_amount'] == 0 ].index\n",
        "df3.drop(Tip_index , inplace=True)"
      ],
      "execution_count": 0,
      "outputs": []
    },
    {
      "cell_type": "code",
      "metadata": {
        "id": "ed1a6WYLio4V",
        "colab_type": "code",
        "colab": {},
        "outputId": "5903df65-e209-42fd-cf8f-7b4d890b7778"
      },
      "source": [
        "df3['Tip_amount']>=4"
      ],
      "execution_count": 0,
      "outputs": [
        {
          "output_type": "execute_result",
          "data": {
            "text/plain": [
              "0            True\n",
              "1           False\n",
              "17           True\n",
              "19          False\n",
              "20          False\n",
              "            ...  \n",
              "19233749    False\n",
              "19233751    False\n",
              "19233752    False\n",
              "19233758    False\n",
              "19233763     True\n",
              "Name: Tip_amount, Length: 7594094, dtype: bool"
            ]
          },
          "metadata": {
            "tags": []
          },
          "execution_count": 24
        }
      ]
    },
    {
      "cell_type": "code",
      "metadata": {
        "id": "D7QyizOEio4X",
        "colab_type": "code",
        "colab": {},
        "outputId": "18fde0a0-e1da-4efb-d636-c9758d872cbc"
      },
      "source": [
        "df3['Tip_amount'].nunique()"
      ],
      "execution_count": 0,
      "outputs": [
        {
          "output_type": "execute_result",
          "data": {
            "text/plain": [
              "4428"
            ]
          },
          "metadata": {
            "tags": []
          },
          "execution_count": 25
        }
      ]
    },
    {
      "cell_type": "code",
      "metadata": {
        "scrolled": false,
        "id": "B-m3TR9Wio4Z",
        "colab_type": "code",
        "colab": {},
        "outputId": "6eefabd8-be34-4bd8-96c4-293bed1dadee"
      },
      "source": [
        "df3['Tip_amount'].value_counts()"
      ],
      "execution_count": 0,
      "outputs": [
        {
          "output_type": "execute_result",
          "data": {
            "text/plain": [
              "1.00     630839\n",
              "2.00     523797\n",
              "3.00     213199\n",
              "1.50     141680\n",
              "1.46     114275\n",
              "          ...  \n",
              "98.61         1\n",
              "38.11         1\n",
              "46.12         1\n",
              "28.07         1\n",
              "98.76         1\n",
              "Name: Tip_amount, Length: 4427, dtype: int64"
            ]
          },
          "metadata": {
            "tags": []
          },
          "execution_count": 59
        }
      ]
    },
    {
      "cell_type": "code",
      "metadata": {
        "id": "xPgPwAmHio4b",
        "colab_type": "code",
        "colab": {},
        "outputId": "e935d801-2a9d-4538-bcb0-c1dab82d6f19"
      },
      "source": [
        "df3.loc[df3['Tip_amount'] == 46.12]"
      ],
      "execution_count": 0,
      "outputs": [
        {
          "output_type": "execute_result",
          "data": {
            "text/html": [
              "<div>\n",
              "<style scoped>\n",
              "    .dataframe tbody tr th:only-of-type {\n",
              "        vertical-align: middle;\n",
              "    }\n",
              "\n",
              "    .dataframe tbody tr th {\n",
              "        vertical-align: top;\n",
              "    }\n",
              "\n",
              "    .dataframe thead th {\n",
              "        text-align: right;\n",
              "    }\n",
              "</style>\n",
              "<table border=\"1\" class=\"dataframe\">\n",
              "  <thead>\n",
              "    <tr style=\"text-align: right;\">\n",
              "      <th></th>\n",
              "      <th>vendorid</th>\n",
              "      <th>Store_and_fwd_flag</th>\n",
              "      <th>rate_code</th>\n",
              "      <th>Pickup_longitude</th>\n",
              "      <th>Pickup_latitude</th>\n",
              "      <th>Dropoff_longitude</th>\n",
              "      <th>Dropoff_latitude</th>\n",
              "      <th>Passenger_count</th>\n",
              "      <th>Trip_distance</th>\n",
              "      <th>Fare_amount</th>\n",
              "      <th>...</th>\n",
              "      <th>Total_amount</th>\n",
              "      <th>Payment_type</th>\n",
              "      <th>Trip_type</th>\n",
              "      <th>pickup_date2</th>\n",
              "      <th>dropoff_date2</th>\n",
              "      <th>pickup_24</th>\n",
              "      <th>dropoff_24</th>\n",
              "      <th>Tip_toFare</th>\n",
              "      <th>Great</th>\n",
              "      <th>Month</th>\n",
              "    </tr>\n",
              "  </thead>\n",
              "  <tbody>\n",
              "    <tr>\n",
              "      <th>2602582</th>\n",
              "      <td>2</td>\n",
              "      <td>N</td>\n",
              "      <td>5</td>\n",
              "      <td>-73.897217</td>\n",
              "      <td>40.613533</td>\n",
              "      <td>-74.892227</td>\n",
              "      <td>40.150005</td>\n",
              "      <td>2</td>\n",
              "      <td>80.58</td>\n",
              "      <td>200.0</td>\n",
              "      <td>...</td>\n",
              "      <td>276.7</td>\n",
              "      <td>1</td>\n",
              "      <td>2.0</td>\n",
              "      <td>2015-07-02</td>\n",
              "      <td>2015-07-02</td>\n",
              "      <td>11:26:17</td>\n",
              "      <td>13:01:07</td>\n",
              "      <td>0.2306</td>\n",
              "      <td>False</td>\n",
              "      <td>7</td>\n",
              "    </tr>\n",
              "  </tbody>\n",
              "</table>\n",
              "<p>1 rows × 25 columns</p>\n",
              "</div>"
            ],
            "text/plain": [
              "         vendorid Store_and_fwd_flag  rate_code  Pickup_longitude  \\\n",
              "2602582         2                  N          5        -73.897217   \n",
              "\n",
              "         Pickup_latitude  Dropoff_longitude  Dropoff_latitude  \\\n",
              "2602582        40.613533         -74.892227         40.150005   \n",
              "\n",
              "         Passenger_count  Trip_distance  Fare_amount  ...  Total_amount  \\\n",
              "2602582                2          80.58        200.0  ...         276.7   \n",
              "\n",
              "         Payment_type  Trip_type  pickup_date2  dropoff_date2  pickup_24  \\\n",
              "2602582             1        2.0    2015-07-02     2015-07-02   11:26:17   \n",
              "\n",
              "         dropoff_24  Tip_toFare  Great Month  \n",
              "2602582    13:01:07      0.2306  False     7  \n",
              "\n",
              "[1 rows x 25 columns]"
            ]
          },
          "metadata": {
            "tags": []
          },
          "execution_count": 62
        }
      ]
    },
    {
      "cell_type": "code",
      "metadata": {
        "id": "uEaWDqamio4d",
        "colab_type": "code",
        "colab": {}
      },
      "source": [
        "# Drop (Remove) row no time, no distance, same long and lat coordinates                                      )\n",
        "Tip_out = df3[df3['Tip_amount'] == 169.00 ].index\n",
        "df3.drop(Tip_out , inplace=True)"
      ],
      "execution_count": 0,
      "outputs": []
    },
    {
      "cell_type": "code",
      "metadata": {
        "id": "_OqmwYfwio4f",
        "colab_type": "code",
        "colab": {}
      },
      "source": [
        "y =  df3['Great']"
      ],
      "execution_count": 0,
      "outputs": []
    },
    {
      "cell_type": "code",
      "metadata": {
        "id": "m76drPrbio4i",
        "colab_type": "code",
        "colab": {},
        "outputId": "972e6c2d-3982-4de9-e044-82d36e98fe4f"
      },
      "source": [
        "y.nunique()"
      ],
      "execution_count": 0,
      "outputs": [
        {
          "output_type": "execute_result",
          "data": {
            "text/plain": [
              "2"
            ]
          },
          "metadata": {
            "tags": []
          },
          "execution_count": 28
        }
      ]
    },
    {
      "cell_type": "code",
      "metadata": {
        "id": "kMNcTDHdio4k",
        "colab_type": "code",
        "colab": {},
        "outputId": "2e9620e3-e978-4e90-ecb2-489c54199503"
      },
      "source": [
        "df3.Great.unique()"
      ],
      "execution_count": 0,
      "outputs": [
        {
          "output_type": "execute_result",
          "data": {
            "text/plain": [
              "array([False,  True])"
            ]
          },
          "metadata": {
            "tags": []
          },
          "execution_count": 29
        }
      ]
    },
    {
      "cell_type": "markdown",
      "metadata": {
        "id": "jRS5jk3cio4m",
        "colab_type": "text"
      },
      "source": [
        "The majority class occurs with 60% frequency, so this is not to imbalanced."
      ]
    },
    {
      "cell_type": "code",
      "metadata": {
        "id": "omOYwRcBio4m",
        "colab_type": "code",
        "colab": {},
        "outputId": "15386cd2-f06a-4e5d-90e2-60b2bbd5df4c"
      },
      "source": [
        "y.value_counts(normalize=True).max()"
      ],
      "execution_count": 0,
      "outputs": [
        {
          "output_type": "execute_result",
          "data": {
            "text/plain": [
              "0.8745788503539724"
            ]
          },
          "metadata": {
            "tags": []
          },
          "execution_count": 30
        }
      ]
    },
    {
      "cell_type": "code",
      "metadata": {
        "id": "rFVz54pBio4o",
        "colab_type": "code",
        "colab": {},
        "outputId": "653674b7-eb2e-442e-9405-0997261e7642"
      },
      "source": [
        "y.describe()"
      ],
      "execution_count": 0,
      "outputs": [
        {
          "output_type": "execute_result",
          "data": {
            "text/plain": [
              "count     7594094\n",
              "unique          2\n",
              "top         False\n",
              "freq      6641634\n",
              "Name: Great, dtype: object"
            ]
          },
          "metadata": {
            "tags": []
          },
          "execution_count": 31
        }
      ]
    },
    {
      "cell_type": "code",
      "metadata": {
        "id": "a3D9XUnnio4q",
        "colab_type": "code",
        "colab": {}
      },
      "source": [
        "################################"
      ],
      "execution_count": 0,
      "outputs": []
    },
    {
      "cell_type": "markdown",
      "metadata": {
        "id": "Ndg332nDio4s",
        "colab_type": "text"
      },
      "source": [
        "Train on reviews from 2016 and earlier, Validate on 2017. Test on 2018 & on"
      ]
    },
    {
      "cell_type": "markdown",
      "metadata": {
        "id": "nmppoMDzio4s",
        "colab_type": "text"
      },
      "source": [
        "How is the target distributed? Regression How many classes? 4522 Are the classes imbalanced? 0.60"
      ]
    },
    {
      "cell_type": "code",
      "metadata": {
        "id": "Y97-Ib0Mio4t",
        "colab_type": "code",
        "colab": {}
      },
      "source": [
        "df3['pickup_date2'] = pd.to_datetime(df3['pickup_date2'])"
      ],
      "execution_count": 0,
      "outputs": []
    },
    {
      "cell_type": "code",
      "metadata": {
        "id": "CskFxsN0io4v",
        "colab_type": "code",
        "colab": {}
      },
      "source": [
        "df3['Month'] = df3['pickup_date2'].dt.month"
      ],
      "execution_count": 0,
      "outputs": []
    },
    {
      "cell_type": "code",
      "metadata": {
        "id": "lBRWijjjio4w",
        "colab_type": "code",
        "colab": {}
      },
      "source": [
        "train = df3[df3['pickup_date2'].dt.month <= 7]\n",
        "val = df3[df3['pickup_date2'].dt.month == 8 ]\n",
        "test = df3[df3['pickup_date2'].dt.month >= 9]"
      ],
      "execution_count": 0,
      "outputs": []
    },
    {
      "cell_type": "code",
      "metadata": {
        "id": "fYewL7cRio4y",
        "colab_type": "code",
        "colab": {},
        "outputId": "6a9628a6-b851-4856-abaa-44800c27a81d"
      },
      "source": [
        "train.head(1)"
      ],
      "execution_count": 0,
      "outputs": [
        {
          "output_type": "execute_result",
          "data": {
            "text/html": [
              "<div>\n",
              "<style scoped>\n",
              "    .dataframe tbody tr th:only-of-type {\n",
              "        vertical-align: middle;\n",
              "    }\n",
              "\n",
              "    .dataframe tbody tr th {\n",
              "        vertical-align: top;\n",
              "    }\n",
              "\n",
              "    .dataframe thead th {\n",
              "        text-align: right;\n",
              "    }\n",
              "</style>\n",
              "<table border=\"1\" class=\"dataframe\">\n",
              "  <thead>\n",
              "    <tr style=\"text-align: right;\">\n",
              "      <th></th>\n",
              "      <th>vendorid</th>\n",
              "      <th>Store_and_fwd_flag</th>\n",
              "      <th>rate_code</th>\n",
              "      <th>Pickup_longitude</th>\n",
              "      <th>Pickup_latitude</th>\n",
              "      <th>Dropoff_longitude</th>\n",
              "      <th>Dropoff_latitude</th>\n",
              "      <th>Passenger_count</th>\n",
              "      <th>Trip_distance</th>\n",
              "      <th>Fare_amount</th>\n",
              "      <th>...</th>\n",
              "      <th>Total_amount</th>\n",
              "      <th>Payment_type</th>\n",
              "      <th>Trip_type</th>\n",
              "      <th>pickup_date2</th>\n",
              "      <th>dropoff_date2</th>\n",
              "      <th>pickup_24</th>\n",
              "      <th>dropoff_24</th>\n",
              "      <th>Tip_toFare</th>\n",
              "      <th>Great</th>\n",
              "      <th>Month</th>\n",
              "    </tr>\n",
              "  </thead>\n",
              "  <tbody>\n",
              "    <tr>\n",
              "      <th>0</th>\n",
              "      <td>2</td>\n",
              "      <td>N</td>\n",
              "      <td>1</td>\n",
              "      <td>-73.828262</td>\n",
              "      <td>40.693958</td>\n",
              "      <td>-73.776329</td>\n",
              "      <td>40.645348</td>\n",
              "      <td>1</td>\n",
              "      <td>5.95</td>\n",
              "      <td>19.0</td>\n",
              "      <td>...</td>\n",
              "      <td>24.55</td>\n",
              "      <td>1</td>\n",
              "      <td>1.0</td>\n",
              "      <td>2015-02-10</td>\n",
              "      <td>2015-02-10</td>\n",
              "      <td>08:46:15</td>\n",
              "      <td>08:59:50</td>\n",
              "      <td>0.25</td>\n",
              "      <td>False</td>\n",
              "      <td>2</td>\n",
              "    </tr>\n",
              "  </tbody>\n",
              "</table>\n",
              "<p>1 rows × 25 columns</p>\n",
              "</div>"
            ],
            "text/plain": [
              "   vendorid Store_and_fwd_flag  rate_code  Pickup_longitude  Pickup_latitude  \\\n",
              "0         2                  N          1        -73.828262        40.693958   \n",
              "\n",
              "   Dropoff_longitude  Dropoff_latitude  Passenger_count  Trip_distance  \\\n",
              "0         -73.776329         40.645348                1           5.95   \n",
              "\n",
              "   Fare_amount  ...  Total_amount  Payment_type  Trip_type  pickup_date2  \\\n",
              "0         19.0  ...         24.55             1        1.0    2015-02-10   \n",
              "\n",
              "   dropoff_date2  pickup_24  dropoff_24  Tip_toFare  Great Month  \n",
              "0     2015-02-10   08:46:15    08:59:50        0.25  False     2  \n",
              "\n",
              "[1 rows x 25 columns]"
            ]
          },
          "metadata": {
            "tags": []
          },
          "execution_count": 36
        }
      ]
    },
    {
      "cell_type": "code",
      "metadata": {
        "id": "ojIhsnXyio40",
        "colab_type": "code",
        "colab": {},
        "outputId": "d5fcd9c8-8248-4ecf-9ee8-c0716016b104"
      },
      "source": [
        "val.head(1)"
      ],
      "execution_count": 0,
      "outputs": [
        {
          "output_type": "execute_result",
          "data": {
            "text/html": [
              "<div>\n",
              "<style scoped>\n",
              "    .dataframe tbody tr th:only-of-type {\n",
              "        vertical-align: middle;\n",
              "    }\n",
              "\n",
              "    .dataframe tbody tr th {\n",
              "        vertical-align: top;\n",
              "    }\n",
              "\n",
              "    .dataframe thead th {\n",
              "        text-align: right;\n",
              "    }\n",
              "</style>\n",
              "<table border=\"1\" class=\"dataframe\">\n",
              "  <thead>\n",
              "    <tr style=\"text-align: right;\">\n",
              "      <th></th>\n",
              "      <th>vendorid</th>\n",
              "      <th>Store_and_fwd_flag</th>\n",
              "      <th>rate_code</th>\n",
              "      <th>Pickup_longitude</th>\n",
              "      <th>Pickup_latitude</th>\n",
              "      <th>Dropoff_longitude</th>\n",
              "      <th>Dropoff_latitude</th>\n",
              "      <th>Passenger_count</th>\n",
              "      <th>Trip_distance</th>\n",
              "      <th>Fare_amount</th>\n",
              "      <th>...</th>\n",
              "      <th>Total_amount</th>\n",
              "      <th>Payment_type</th>\n",
              "      <th>Trip_type</th>\n",
              "      <th>pickup_date2</th>\n",
              "      <th>dropoff_date2</th>\n",
              "      <th>pickup_24</th>\n",
              "      <th>dropoff_24</th>\n",
              "      <th>Tip_toFare</th>\n",
              "      <th>Great</th>\n",
              "      <th>Month</th>\n",
              "    </tr>\n",
              "  </thead>\n",
              "  <tbody>\n",
              "    <tr>\n",
              "      <th>238741</th>\n",
              "      <td>2</td>\n",
              "      <td>N</td>\n",
              "      <td>5</td>\n",
              "      <td>-73.936462</td>\n",
              "      <td>40.679688</td>\n",
              "      <td>-73.936539</td>\n",
              "      <td>40.679691</td>\n",
              "      <td>2</td>\n",
              "      <td>0.0</td>\n",
              "      <td>40.0</td>\n",
              "      <td>...</td>\n",
              "      <td>52.0</td>\n",
              "      <td>1</td>\n",
              "      <td>2.0</td>\n",
              "      <td>2015-08-03</td>\n",
              "      <td>2015-08-03</td>\n",
              "      <td>21:05:28</td>\n",
              "      <td>21:05:50</td>\n",
              "      <td>0.3</td>\n",
              "      <td>True</td>\n",
              "      <td>8</td>\n",
              "    </tr>\n",
              "  </tbody>\n",
              "</table>\n",
              "<p>1 rows × 25 columns</p>\n",
              "</div>"
            ],
            "text/plain": [
              "        vendorid Store_and_fwd_flag  rate_code  Pickup_longitude  \\\n",
              "238741         2                  N          5        -73.936462   \n",
              "\n",
              "        Pickup_latitude  Dropoff_longitude  Dropoff_latitude  Passenger_count  \\\n",
              "238741        40.679688         -73.936539         40.679691                2   \n",
              "\n",
              "        Trip_distance  Fare_amount  ...  Total_amount  Payment_type  \\\n",
              "238741            0.0         40.0  ...          52.0             1   \n",
              "\n",
              "        Trip_type  pickup_date2  dropoff_date2  pickup_24  dropoff_24  \\\n",
              "238741        2.0    2015-08-03     2015-08-03   21:05:28    21:05:50   \n",
              "\n",
              "        Tip_toFare Great Month  \n",
              "238741         0.3  True     8  \n",
              "\n",
              "[1 rows x 25 columns]"
            ]
          },
          "metadata": {
            "tags": []
          },
          "execution_count": 37
        }
      ]
    },
    {
      "cell_type": "code",
      "metadata": {
        "id": "NNV0n5fWio41",
        "colab_type": "code",
        "colab": {},
        "outputId": "ec4705cf-b3d6-4cfb-f138-e6e314755ea7"
      },
      "source": [
        "test.head(1)"
      ],
      "execution_count": 0,
      "outputs": [
        {
          "output_type": "execute_result",
          "data": {
            "text/html": [
              "<div>\n",
              "<style scoped>\n",
              "    .dataframe tbody tr th:only-of-type {\n",
              "        vertical-align: middle;\n",
              "    }\n",
              "\n",
              "    .dataframe tbody tr th {\n",
              "        vertical-align: top;\n",
              "    }\n",
              "\n",
              "    .dataframe thead th {\n",
              "        text-align: right;\n",
              "    }\n",
              "</style>\n",
              "<table border=\"1\" class=\"dataframe\">\n",
              "  <thead>\n",
              "    <tr style=\"text-align: right;\">\n",
              "      <th></th>\n",
              "      <th>vendorid</th>\n",
              "      <th>Store_and_fwd_flag</th>\n",
              "      <th>rate_code</th>\n",
              "      <th>Pickup_longitude</th>\n",
              "      <th>Pickup_latitude</th>\n",
              "      <th>Dropoff_longitude</th>\n",
              "      <th>Dropoff_latitude</th>\n",
              "      <th>Passenger_count</th>\n",
              "      <th>Trip_distance</th>\n",
              "      <th>Fare_amount</th>\n",
              "      <th>...</th>\n",
              "      <th>Total_amount</th>\n",
              "      <th>Payment_type</th>\n",
              "      <th>Trip_type</th>\n",
              "      <th>pickup_date2</th>\n",
              "      <th>dropoff_date2</th>\n",
              "      <th>pickup_24</th>\n",
              "      <th>dropoff_24</th>\n",
              "      <th>Tip_toFare</th>\n",
              "      <th>Great</th>\n",
              "      <th>Month</th>\n",
              "    </tr>\n",
              "  </thead>\n",
              "  <tbody>\n",
              "    <tr>\n",
              "      <th>18323</th>\n",
              "      <td>2</td>\n",
              "      <td>N</td>\n",
              "      <td>5</td>\n",
              "      <td>-73.939354</td>\n",
              "      <td>40.693481</td>\n",
              "      <td>-73.939354</td>\n",
              "      <td>40.693478</td>\n",
              "      <td>1</td>\n",
              "      <td>0.0</td>\n",
              "      <td>12.8</td>\n",
              "      <td>...</td>\n",
              "      <td>16.0</td>\n",
              "      <td>1</td>\n",
              "      <td>2.0</td>\n",
              "      <td>2015-09-11</td>\n",
              "      <td>2015-09-11</td>\n",
              "      <td>23:34:38</td>\n",
              "      <td>23:34:42</td>\n",
              "      <td>0.25</td>\n",
              "      <td>False</td>\n",
              "      <td>9</td>\n",
              "    </tr>\n",
              "  </tbody>\n",
              "</table>\n",
              "<p>1 rows × 25 columns</p>\n",
              "</div>"
            ],
            "text/plain": [
              "       vendorid Store_and_fwd_flag  rate_code  Pickup_longitude  \\\n",
              "18323         2                  N          5        -73.939354   \n",
              "\n",
              "       Pickup_latitude  Dropoff_longitude  Dropoff_latitude  Passenger_count  \\\n",
              "18323        40.693481         -73.939354         40.693478                1   \n",
              "\n",
              "       Trip_distance  Fare_amount  ...  Total_amount  Payment_type  Trip_type  \\\n",
              "18323            0.0         12.8  ...          16.0             1        2.0   \n",
              "\n",
              "       pickup_date2  dropoff_date2  pickup_24  dropoff_24  Tip_toFare  Great  \\\n",
              "18323    2015-09-11     2015-09-11   23:34:38    23:34:42        0.25  False   \n",
              "\n",
              "      Month  \n",
              "18323     9  \n",
              "\n",
              "[1 rows x 25 columns]"
            ]
          },
          "metadata": {
            "tags": []
          },
          "execution_count": 38
        }
      ]
    },
    {
      "cell_type": "code",
      "metadata": {
        "id": "AOhyVMrAio43",
        "colab_type": "code",
        "colab": {},
        "outputId": "a4978d09-13c4-4dd6-997a-00d26b24f3dc"
      },
      "source": [
        "train.shape"
      ],
      "execution_count": 0,
      "outputs": [
        {
          "output_type": "execute_result",
          "data": {
            "text/plain": [
              "(4418158, 25)"
            ]
          },
          "metadata": {
            "tags": []
          },
          "execution_count": 39
        }
      ]
    },
    {
      "cell_type": "code",
      "metadata": {
        "id": "aRoKmt22io46",
        "colab_type": "code",
        "colab": {},
        "outputId": "7d2b82d5-1be2-43e8-bad7-e727ca69e71d"
      },
      "source": [
        "val.shape"
      ],
      "execution_count": 0,
      "outputs": [
        {
          "output_type": "execute_result",
          "data": {
            "text/plain": [
              "(596393, 25)"
            ]
          },
          "metadata": {
            "tags": []
          },
          "execution_count": 40
        }
      ]
    },
    {
      "cell_type": "code",
      "metadata": {
        "id": "0DQFju9oio4-",
        "colab_type": "code",
        "colab": {},
        "outputId": "03a7b953-4d30-4a8a-af5a-201bf6a1b4e4"
      },
      "source": [
        "test.shape"
      ],
      "execution_count": 0,
      "outputs": [
        {
          "output_type": "execute_result",
          "data": {
            "text/plain": [
              "(2579543, 25)"
            ]
          },
          "metadata": {
            "tags": []
          },
          "execution_count": 41
        }
      ]
    },
    {
      "cell_type": "markdown",
      "metadata": {
        "id": "b3Voibu6io5A",
        "colab_type": "text"
      },
      "source": [
        "There will be a need for more fields to figure out the Tip_amount distribution."
      ]
    },
    {
      "cell_type": "code",
      "metadata": {
        "id": "eq3KJek0io5B",
        "colab_type": "code",
        "colab": {}
      },
      "source": [
        "df3['Tip_toFare'] = df3['Tip_amount'] / df3['Fare_amount']"
      ],
      "execution_count": 0,
      "outputs": []
    },
    {
      "cell_type": "markdown",
      "metadata": {
        "id": "_PH7V4T5io5H",
        "colab_type": "text"
      },
      "source": [
        ""
      ]
    },
    {
      "cell_type": "code",
      "metadata": {
        "id": "xqI2Gtodio5I",
        "colab_type": "code",
        "colab": {},
        "outputId": "16dab3c0-9275-480d-f9f9-cd88d1697b98"
      },
      "source": [
        "print(\"Number of vendor_ids in the train dataset: \", len(train[\"vendorid\"]))"
      ],
      "execution_count": 0,
      "outputs": [
        {
          "output_type": "stream",
          "text": [
            "Number of vendor_ids in the train dataset:  4418158\n"
          ],
          "name": "stdout"
        }
      ]
    },
    {
      "cell_type": "code",
      "metadata": {
        "id": "VWyAk_0Xio5K",
        "colab_type": "code",
        "colab": {},
        "outputId": "6a9a8b82-d6d2-4ae0-faa6-5260fc5f545c"
      },
      "source": [
        "print(\"Number of unique vendor_ids in the train dataset: \", len(pd.unique(train[\"vendorid\"])), \"\\n\")"
      ],
      "execution_count": 0,
      "outputs": [
        {
          "output_type": "stream",
          "text": [
            "Number of unique vendor_ids in the train dataset:  2 \n",
            "\n"
          ],
          "name": "stdout"
        }
      ]
    },
    {
      "cell_type": "code",
      "metadata": {
        "id": "jW6nBqu5io5L",
        "colab_type": "code",
        "colab": {},
        "outputId": "39bf8e70-faff-42cd-a13d-9e9095ea5462"
      },
      "source": [
        "print(\"Number of vendorids in the test dataset: \", len(test[\"vendorid\"]))"
      ],
      "execution_count": 0,
      "outputs": [
        {
          "output_type": "stream",
          "text": [
            "Number of vendorids in the test dataset:  2579543\n"
          ],
          "name": "stdout"
        }
      ]
    },
    {
      "cell_type": "code",
      "metadata": {
        "id": "8UJIaq_hio5N",
        "colab_type": "code",
        "colab": {},
        "outputId": "ba50c100-e262-4e8d-96ab-374d09ad0e90"
      },
      "source": [
        "print(\"Number of unique vendor_ids in the test dataset: \", len(pd.unique(test[\"vendorid\"])), \"\\n\")"
      ],
      "execution_count": 0,
      "outputs": [
        {
          "output_type": "stream",
          "text": [
            "Number of unique vendor_ids in the test dataset:  2 \n",
            "\n"
          ],
          "name": "stdout"
        }
      ]
    },
    {
      "cell_type": "code",
      "metadata": {
        "id": "Rmz2XkxGio5P",
        "colab_type": "code",
        "colab": {}
      },
      "source": [
        ""
      ],
      "execution_count": 0,
      "outputs": []
    },
    {
      "cell_type": "code",
      "metadata": {
        "id": "YtXzJjZ5io5Q",
        "colab_type": "code",
        "colab": {}
      },
      "source": [
        "import category_encoders as ce\n",
        "from sklearn.impute import SimpleImputer\n",
        "from sklearn.model_selection import cross_val_score, train_test_split\n",
        "from sklearn.pipeline import make_pipeline\n",
        "from sklearn.tree import DecisionTreeClassifier"
      ],
      "execution_count": 0,
      "outputs": []
    },
    {
      "cell_type": "code",
      "metadata": {
        "id": "6Fdu0SkQio5R",
        "colab_type": "code",
        "colab": {},
        "outputId": "a9f9804f-a173-46d1-8e35-ea3e477f9677"
      },
      "source": [
        "target = 'Great'\n",
        "features = df3['rate_code','Passenger_count',])\n",
        "X_train = train[features]\n",
        "y_train = train[target]\n",
        "X_val = val[features]\n",
        "y_val = val[target]"
      ],
      "execution_count": 0,
      "outputs": [
        {
          "output_type": "error",
          "ename": "SyntaxError",
          "evalue": "invalid syntax (<ipython-input-48-3e035145e473>, line 2)",
          "traceback": [
            "\u001b[1;36m  File \u001b[1;32m\"<ipython-input-48-3e035145e473>\"\u001b[1;36m, line \u001b[1;32m2\u001b[0m\n\u001b[1;33m    features = df3['rate_code','Passenger_count',])\u001b[0m\n\u001b[1;37m                                                  ^\u001b[0m\n\u001b[1;31mSyntaxError\u001b[0m\u001b[1;31m:\u001b[0m invalid syntax\n"
          ]
        }
      ]
    },
    {
      "cell_type": "code",
      "metadata": {
        "id": "hXVwLHRKio5T",
        "colab_type": "code",
        "colab": {}
      },
      "source": [
        "pipeline = make_pipeline(\n",
        "    ce.OrdinalEncoder(), \n",
        "    DecisionTreeClassifier(max_depth=3)\n",
        ")\n",
        "pipeline.fit(X_train, y_train)\n",
        "print('Validation Accuracy', pipeline.score(X_val, y_val))"
      ],
      "execution_count": 0,
      "outputs": []
    },
    {
      "cell_type": "code",
      "metadata": {
        "id": "ZOqCm8Buio5V",
        "colab_type": "code",
        "colab": {}
      },
      "source": [
        "df3['Great'].isnull().sum()"
      ],
      "execution_count": 0,
      "outputs": []
    },
    {
      "cell_type": "code",
      "metadata": {
        "id": "-rFqWk1-io5W",
        "colab_type": "code",
        "colab": {}
      },
      "source": [
        ""
      ],
      "execution_count": 0,
      "outputs": []
    },
    {
      "cell_type": "code",
      "metadata": {
        "id": "TukFefNTio5Y",
        "colab_type": "code",
        "colab": {}
      },
      "source": [
        "import seaborn as sns\n",
        "sns.distplot(y)"
      ],
      "execution_count": 0,
      "outputs": []
    },
    {
      "cell_type": "code",
      "metadata": {
        "id": "n_kniea5io5Z",
        "colab_type": "code",
        "colab": {}
      },
      "source": [
        "    # https://www.youtube.com/watch?v=-6s2srZT4j0&feature=youtu.be 1:36:00 minutes\n",
        "\n",
        "sns.countplot(x=\"vendorid\",data =train);"
      ],
      "execution_count": 0,
      "outputs": []
    },
    {
      "cell_type": "code",
      "metadata": {
        "id": "2d73e9zMio5a",
        "colab_type": "code",
        "colab": {}
      },
      "source": [
        "y.describe()"
      ],
      "execution_count": 0,
      "outputs": []
    },
    {
      "cell_type": "code",
      "metadata": {
        "id": "i0JUiwNMio5d",
        "colab_type": "code",
        "colab": {}
      },
      "source": [
        "import seaborn as sns\n",
        "sns.countplot(x=\"Passenger_count\", data=train) == 1\n",
        "sns.countplot(x='Passenger_count',data =train[train['vendorid'] == 1])"
      ],
      "execution_count": 0,
      "outputs": []
    },
    {
      "cell_type": "code",
      "metadata": {
        "id": "3V2AaAiXio5f",
        "colab_type": "code",
        "colab": {}
      },
      "source": [
        "df3.head(1)"
      ],
      "execution_count": 0,
      "outputs": []
    },
    {
      "cell_type": "code",
      "metadata": {
        "id": "l5M1Nc1Yio5g",
        "colab_type": "code",
        "colab": {}
      },
      "source": [
        "sns.distplot(y)"
      ],
      "execution_count": 0,
      "outputs": []
    },
    {
      "cell_type": "code",
      "metadata": {
        "id": "K53j484Dio5i",
        "colab_type": "code",
        "colab": {}
      },
      "source": [
        "import numpy as np\n",
        "import matplotlib.pyplot as plt\n",
        "y_log = np.log1p(y)"
      ],
      "execution_count": 0,
      "outputs": []
    },
    {
      "cell_type": "code",
      "metadata": {
        "id": "JUdRzTBlio5j",
        "colab_type": "code",
        "colab": {}
      },
      "source": [
        "sns.distplot(y_log)\n",
        "plt.title('Original target, in the unit of ');"
      ],
      "execution_count": 0,
      "outputs": []
    },
    {
      "cell_type": "code",
      "metadata": {
        "id": "lNH8AWcXio5k",
        "colab_type": "code",
        "colab": {}
      },
      "source": [
        "sns.countplot(x=\"Passenger_count\", data=train[train[\"vendorid\"] == 1])"
      ],
      "execution_count": 0,
      "outputs": []
    },
    {
      "cell_type": "code",
      "metadata": {
        "scrolled": true,
        "id": "CgP6ojWcio5m",
        "colab_type": "code",
        "colab": {}
      },
      "source": [
        "sns.countplot(x=\"Passenger_count\", data=train[train[\"vendorid\"] == 2])"
      ],
      "execution_count": 0,
      "outputs": []
    },
    {
      "cell_type": "code",
      "metadata": {
        "id": "UOo3vj1Qio5n",
        "colab_type": "code",
        "colab": {}
      },
      "source": [
        "df3.head(1)"
      ],
      "execution_count": 0,
      "outputs": []
    },
    {
      "cell_type": "code",
      "metadata": {
        "id": "CQVyPl4hio5p",
        "colab_type": "code",
        "colab": {}
      },
      "source": [
        "#df3['Trip_dur'] = df3.dropoff_24 - df3.pickup_24\n",
        "arrival = pd.to_datetime(df3['dropoff_24'])\n",
        "dept = pd.to_datetime(df3['pickup_24'])\n",
        "df3['Trip_dur'] = arrival - dept"
      ],
      "execution_count": 0,
      "outputs": []
    },
    {
      "cell_type": "code",
      "metadata": {
        "id": "27swpe38io5s",
        "colab_type": "code",
        "colab": {}
      },
      "source": [
        "df3.head(1)"
      ],
      "execution_count": 0,
      "outputs": []
    },
    {
      "cell_type": "code",
      "metadata": {
        "id": "2TDn8uuiio5t",
        "colab_type": "code",
        "colab": {}
      },
      "source": [
        "Begin to choose which features, if any to exclude."
      ],
      "execution_count": 0,
      "outputs": []
    },
    {
      "cell_type": "code",
      "metadata": {
        "id": "BngS7z3Uio5u",
        "colab_type": "code",
        "colab": {}
      },
      "source": [
        "# df['pickup_24hr'] = pd.to_datetime(df['pickup_date2'].apply(str)+' '+df['pickup_24'])\n",
        "# df['dropoff_24hr'] = pd.to_datetime(df['dropoff_date2'].apply(str)+' '+df['dropoff_24'])"
      ],
      "execution_count": 0,
      "outputs": []
    },
    {
      "cell_type": "code",
      "metadata": {
        "id": "9SyDgtiEio5w",
        "colab_type": "code",
        "colab": {}
      },
      "source": [
        "from sklearn import svm, datasets\n",
        "from sklearn.model_selection import cross_val_score\n",
        "X, y = datasets.ds2(return_X_y=True)\n",
        "clf = svm.SVC(random_state=0)\n",
        "cross_val_score(clf, X, y, cv=5, scoring='recall_macro')\n",
        "#array([0.96..., 0.96..., 0.96..., 0.93..., 1.        ])\n",
        "model = svm.SVC()\n",
        "cross_val_score(model, X, y, cv=5, scoring='wrong_choice')\n",
        "#Traceback (most recent call last):\n",
        "#ValueError: 'Wrong_choice' is not a valid scoring value. Use sorted(sklearn.metrics.SCORERS.keys()) \n",
        "    #to get valid options."
      ],
      "execution_count": 0,
      "outputs": []
    },
    {
      "cell_type": "code",
      "metadata": {
        "id": "HaY9huYTio5x",
        "colab_type": "code",
        "colab": {}
      },
      "source": [
        ">>> import numpy as np\n",
        "from sklearn.metrics import fbeta_score, make_scorer\n",
        ">>> def my_custom_loss_func(y_true, y_pred):\n",
        "...     diff = np.abs(y_true - y_pred).max()\n",
        "...     return np.log1p(diff)\n",
        "...\n",
        ">>> # score will negate the return value of my_custom_loss_func,\n",
        ">>> # which will be np.log(2), 0.693, given the values for X\n",
        ">>> # and y defined below.\n",
        ">>> score = make_scorer(my_custom_loss_func, greater_is_better=False)\n",
        ">>> X = [[1], [1]]\n",
        ">>> y = [0, 1]\n",
        ">>> from sklearn.dummy import DummyClassifier\n",
        ">>> clf = DummyClassifier(strategy='most_frequent', random_state=0)\n",
        ">>> clf = clf.fit(X, y)\n",
        ">>> my_custom_loss_func(clf.predict(X), y)"
      ],
      "execution_count": 0,
      "outputs": []
    },
    {
      "cell_type": "code",
      "metadata": {
        "id": "L2-CHwYWio5y",
        "colab_type": "code",
        "colab": {}
      },
      "source": [
        "#https://scikit-learn.org/stable/modules/model_evaluation.html#common-cases-predefined-values\n",
        "\n",
        "    #For example, to use n_jobs greater than 1 in the example below, custom_scoring_function\n",
        "#function is saved in a user-created module (custom_scorer_module.py) and imported:\n",
        "# >>> from custom_scorer_module import custom_scoring_function \n",
        "# >>> cross_val_score(model,\n",
        "# ...  X_train,\n",
        "# ...  y_train,\n",
        "# ...  scoring=make_scorer(custom_scoring_function, greater_is_better=False),\n",
        "# ...  cv=5,\n",
        "# ...  n_jobs=-1)"
      ],
      "execution_count": 0,
      "outputs": []
    }
  ]
}